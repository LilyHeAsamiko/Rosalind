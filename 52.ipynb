{
 "cells": [
  {
   "cell_type": "code",
   "execution_count": 3,
   "metadata": {},
   "outputs": [
    {
     "name": "stdout",
     "output_type": "stream",
     "text": [
      "2\n",
      "[[[4, 9], [2, 5]]]\n"
     ]
    }
   ],
   "source": [
    "def sorting(path):\n",
    "    with open(path) as fp:\n",
    "        r=fp.read().split('\\n')\n",
    "        r=[tuple(r[i].split())for i in range(len(r)) if r[i]!='']\n",
    "    return sorting_reversals(r)\n",
    "def get_reversals(s):\n",
    "    return (s[:i]+s[i:j][::-1]+s[j:] for i in range(len(s))for j in range(i+2,len(s)+1))\n",
    "def reversal_distance(s,t,s_t=[],t_s=[],meet_array=[],distance=0):\n",
    "    if s & t:return s_t,t_s,meet_array,distance\n",
    "    new_s=set(tuple(j) for i in s for j in get_reversals(i)) #求s翻转一次的所有数组\n",
    "    s_={i:list(get_reversals(i)) for i in s} #用哈希表标记\n",
    "    s_t.append(s_)\n",
    "    new_t=set(tuple(j) for i in t for j in get_reversals(i)) #求t翻转一次的所有数组\n",
    "    t_={i:list(get_reversals(i)) for i in t} #用哈希表标记\n",
    "    t_s.append(t_)\n",
    "    distance+=2 #s翻转一次，t翻转一次\n",
    "    if s & new_t:\n",
    "        meet_array=list(s&new_t) #求翻转过程中相同数组\n",
    "        return s_t,t_s,meet_array,distance-1 #s没翻转，t翻转\n",
    "    if t & new_s:\n",
    "        meet_array=list(t&new_s) #求翻转过程中相同数组\n",
    "        return s_t,t_s,meet_array,distance-1 #t没翻转，s翻转\n",
    "    if new_s & new_t:\n",
    "        meet_array=list(new_s&new_t) #求翻转过程中相同数组\n",
    "        return s_t,t_s,meet_array,distance\n",
    "    s_t,t_s,meet_array,distance=reversal_distance(new_s,new_t,s_t,t_s,meet_array,distance) #递归\n",
    "    return s_t,t_s,meet_array,distance\n",
    "def get_point(s,t):\n",
    "    for i in range(len(s)):\n",
    "        for j in range(i+2,len(s)+1):\n",
    "            if s[:i]+s[i:j][::-1]+s[j:]==t:return i+1,j\n",
    "def get_reversals_sort(s1_s2,s2_s1,meet_array):\n",
    "    collections=[]\n",
    "    for l in meet_array:\n",
    "        collection=[]\n",
    "        current_array=tuple(l)\n",
    "        for reverse_path in s1_s2[::-1]:\n",
    "            for k,v in reverse_path.items():\n",
    "                if current_array in v:\n",
    "                    i,j=get_point(current_array,k) #比较是否相同\n",
    "                    collection.append([i,j])\n",
    "                    current_array=tuple(k)\n",
    "                    break\n",
    "        current_array=tuple(l)\n",
    "        for reverse_path in s2_s1[::-1]:\n",
    "            for k,v in reverse_path.items():\n",
    "                if current_array in v:\n",
    "                    i,j=get_point(current_array,k) #比较是否相同\n",
    "                    collection.append([i,j])\n",
    "                    current_array=tuple(k)\n",
    "                    break\n",
    "    collections.append(collection)\n",
    "    return collections\n",
    "def sorting_reversals(r):\n",
    "    s1_s2,s2_s1,meet_array,distance=reversal_distance({r[0]},{r[1]})\n",
    "    print(distance)\n",
    "    return get_reversals_sort(s1_s2,s2_s1,meet_array)\n",
    "print(sorting(r'D:\\downloads\\rosalind_sbr_test.txt'))"
   ]
  },
  {
   "cell_type": "markdown",
   "metadata": {},
   "source": [
    "A"
   ]
  }
 ],
 "metadata": {
  "kernelspec": {
   "display_name": "Python 3",
   "language": "python",
   "name": "python3"
  },
  "language_info": {
   "codemirror_mode": {
    "name": "ipython",
    "version": 3
   },
   "file_extension": ".py",
   "mimetype": "text/x-python",
   "name": "python",
   "nbconvert_exporter": "python",
   "pygments_lexer": "ipython3",
   "version": "3.12.5"
  }
 },
 "nbformat": 4,
 "nbformat_minor": 2
}
