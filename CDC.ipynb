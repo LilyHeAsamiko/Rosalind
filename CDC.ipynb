{
 "cells": [
  {
   "cell_type": "markdown",
   "metadata": {},
   "source": [
    "# Counting Disease Carrier\n",
    "\n",
    "## Problem\n",
    "\n",
    "To model the Hardy-Weinberg principle, assume that we have a population of N\n",
    " diploid individuals. If an allele is in genetic equilibrium, then because mating is random, we may view the 2N\n",
    " chromosomes as receiving their alleles uniformly. In other words, if there are m\n",
    " dominant alleles, then the probability of a selected chromosome exhibiting the dominant allele is simply p=m2N\n",
    ".\n",
    "\n",
    "Because the first assumption of genetic equilibrium states that the population is so large as to be ignored, we will assume that N\n",
    " is infinite, so that we only need to concern ourselves with the value of p\n",
    ".\n",
    "\n",
    "Given: An array A\n",
    " for which A[k]\n",
    " represents the proportion of homozygous recessive individuals for the k\n",
    "-th Mendelian factor in a diploid population. Assume that the population is in genetic equilibrium for all factors.\n",
    "\n",
    "Return: An array B\n",
    " having the same length as A\n",
    " in which B[k]\n",
    " represents the probability that a randomly selected individual carries at least one copy of the recessive allele for the k\n",
    "-th factor.\n",
    "## Sample Dataset \n",
    "0.1 0.25 0.5\n",
    "\n",
    "## Sample Output\n",
    "0.532 0.75 0.914\n",
    "\n",
    "\n",
    "## Genetic Drift and the Hardy-Weinberg Principleclick to collapse\n",
    "Mendel's laws of segregation and independent assortment are excellent for the study of individual organisms and their progeny, but they say nothing about how alleles move through a population over time. Our first question is: when can we assume that the ratio of an allele in a population, called the **allele frequency**, is stable?\n",
    "\n",
    "G. H. Hardy and Wilhelm Weinberg independently considered this question at the turn of the 20th Century, shortly after Mendel's ideas had been rediscovered. They concluded that the percentage of an allele in a population of individuals is in **genetic equilibrium** when five conditions are satisfied:\n",
    "\n",
    "1. The population is so large that random changes in the allele frequency are negligible.\n",
    "2. No new mutations are affecting the gene of interest;\n",
    "3. The gene does not influence survival or reproduction, so that natural selection is not occurring;\n",
    "4. **Gene flow**, or the change in allele frequency due to migration into and out of the population, is negligible.\n",
    "5. Mating occurs randomly with respect to the gene of interest.\n",
    "\n",
    "The **Hardy-Weinberg principle** states that if a population is in genetic equilibrium for a given allele, then its frequency will remain constant and evenly distributed through the population. Unless the gene in question is important to survival or reproduction, Hardy-Weinberg usually offers a reasonable enough model of population genetics.\n",
    "\n",
    "One of the many benefits of the Mendelian theory of inheritance and simplifying models like Hardy-Weinberg is that they help us predict the probability with which genetic diseases will be inherited, so as to take appropriate preventative measures. Genetic diseases are usually caused by mutations to chromosomes, which are passed on to subsequent generations.\n",
    "\n",
    "The simplest and most widespread case of a genetic disease is a single gene disorder, which is caused by a single mutated gene. Over 4,000 such human diseases have been identified, including cystic fibrosis and sickle-cell anemia. In both of these cases, the individual must possess two recessive alleles for a gene in order to contract the disease. Thus, carriers can live their entire lives without knowing that they can pass the disease on to their children.\n",
    "\n",
    "The above introduction to genetic equilibrium leaves us with a basic and yet very practical question regarding gene disorders: if we know the number of people who have a disease encoded by a recessive allele, can we predict the number of carriers in the population?\n",
    "\n",
    "Origin: https://rosalind.info/problems/afrq/"
   ]
  },
  {
   "cell_type": "markdown",
   "metadata": {},
   "source": [
    "## Sample Dataset\n",
    "0.1 0.25 0.5\n",
    "\n",
    "## Sample Output\n",
    "0.532 0.75 0.914\n",
    "\n"
   ]
  },
  {
   "cell_type": "code",
   "execution_count": 24,
   "metadata": {},
   "outputs": [
    {
     "name": "stdout",
     "output_type": "stream",
     "text": [
      "[0.998, 0.919, 0.88, 0.941, 0.989, 0.886, 0.958, 0.975, 0.802, 0.977, 0.9, 0.494, 0.964, 0.591, 0.449, 1.0, 0.879, 0.823]\n",
      "0.998 0.919 0.88 0.941 0.989 0.886 0.958 0.975 0.802 0.977 0.9 0.494 0.964 0.591 0.449 1.0 0.879 0.823\n"
     ]
    }
   ],
   "source": [
    "input = '''0.1 0.25 0.5'''\n",
    "input ='''0.902636724071 0.511631990301 0.426902577438 0.573456137444 0.805175842176 0.439373998826 0.631305063204 0.710147717508 0.307636066168 0.720328378754 0.468240154049 0.0834925021407 0.655187441277 0.129939572629 0.0665179937555 0.976312807558 0.425355476803 0.335236467259'''\n",
    "li = input.split(' ')\n",
    "\n",
    "res=[]\n",
    "for i in li:\n",
    "    tep = 1-(float(i))**0.5\n",
    "    tep = 1 - tep * tep\n",
    "    res.append(round(tep, 3))\n",
    "\n",
    "print(res)\n",
    "print((' ').join(list(map(str,res))))"
   ]
  }
 ],
 "metadata": {
  "kernelspec": {
   "display_name": "Python 3",
   "language": "python",
   "name": "python3"
  },
  "language_info": {
   "codemirror_mode": {
    "name": "ipython",
    "version": 3
   },
   "file_extension": ".py",
   "mimetype": "text/x-python",
   "name": "python",
   "nbconvert_exporter": "python",
   "pygments_lexer": "ipython3",
   "version": "3.12.5"
  }
 },
 "nbformat": 4,
 "nbformat_minor": 2
}
