{
 "cells": [
  {
   "cell_type": "code",
   "execution_count": 1,
   "metadata": {},
   "outputs": [],
   "source": [
    "# Online Python - IDE, Editor, Compiler, Interpreter\n",
    "def generate_rc(DNA):\n",
    "   #temp = ''\n",
    "    RC = {'A':'T','T':'A','C':'G','G':'C'}\n",
    "    temp= [RC[dna] for dna in DNA]\n",
    "    #or dna in DNA:\n",
    "    #   if RC[dna] not in temp:\n",
    "    #       temp += RC[dna]\n",
    "    #rint(temp)\n",
    "    return ''.join(temp[::-1])"
   ]
  },
  {
   "cell_type": "code",
   "execution_count": 15,
   "metadata": {},
   "outputs": [
    {
     "name": "stdout",
     "output_type": "stream",
     "text": [
      "PRETTY PRTTEIN\n"
     ]
    }
   ],
   "source": [
    "path = r\"C:/Users/Hi/Downloads/test.txt\"\n",
    "with open(path) as f:\n",
    "    input = f.readlines()\n",
    "#    print(input)\n",
    "for lines in range(len(input)):\n",
    "    if lines == 1:\n",
    "        s = ''.join(input[lines]).replace('\\n','')\n",
    "    elif lines ==3:\n",
    "        t = ''.join(input[lines]).replace('\\n','')\n",
    "print(s,t)"
   ]
  },
  {
   "cell_type": "code",
   "execution_count": 61,
   "metadata": {},
   "outputs": [
    {
     "name": "stdout",
     "output_type": "stream",
     "text": [
      "CKLHIRIISVEEEAVGAFVFLCKQMQMGPGMSSLIEHWNWHISVYDEWTFQRNFAFPHLQ DDRMARSIFGCMQFEERQAHLSIASLSLVCQPLCHVHEEIFQLLSDEYKAAICIENDKCQ\n"
     ]
    }
   ],
   "source": [
    "path = r\"D:/downloads/rosalind_edta.txt\"\n",
    "with open(path) as f:\n",
    "    input = f.readlines()\n",
    "#    print(input)\n",
    "for lines in range(len(input)):\n",
    "    if lines == 1:\n",
    "        s = ''.join(input[lines]).replace('\\n','')\n",
    "    elif lines ==3:\n",
    "        t = ''.join(input[lines]).replace('\\n','')\n",
    "print(s,t)"
   ]
  },
  {
   "cell_type": "code",
   "execution_count": 62,
   "metadata": {},
   "outputs": [
    {
     "name": "stdout",
     "output_type": "stream",
     "text": [
      "52\n",
      "CKLHIRIISVE---EE--AVGAFVFLCKQMQMGPGMSSLIEHWNWHISVYDEWTFQRNFAFPHLQ\n",
      "DDRMARSIFGCMQFEERQAHLSIASLSLVCQ--PLCHVHEEIFQLL-S--DEYKAAICIENDKCQ\n"
     ]
    }
   ],
   "source": [
    "def edit(p):\n",
    "    with open(path) as f:\n",
    "        input = f.readlines()\n",
    "    #    print(input)\n",
    "    for lines in range(len(input)):\n",
    "        if lines == 1:\n",
    "            s = ''.join(input[lines]).replace('\\n','')\n",
    "        elif lines ==3:\n",
    "            t = ''.join(input[lines]).replace('\\n','')\n",
    "    return edit_distance(s,t)\n",
    "def edit_distance(s,t,gap=1): \n",
    "    sbar,tbar = s,t\n",
    "    n,m=len(s)+1,len(t)+1\n",
    "    dp=[[0]*m for _ in range(n)] \n",
    "    for i in range(n):\n",
    "        for j in range(m):\n",
    "            if i==0 and j==0:continue\n",
    "            elif i==0:dp[i][j]=dp[i][j-1]+gap\n",
    "            elif j==0:dp[i][j]=dp[i-1][j]+gap\n",
    "            else:\n",
    "                dp[i][j]=min(dp[i-1][j]+gap,dp[i][j-1]+gap,dp[i-1][j-1] if s[i-1]==t[j-1] else dp[i-1][j-1]+gap)\n",
    "    #print(sbar)\n",
    "    #print(tbar)\n",
    "    print(dp[n-1][m-1])\n",
    "    \n",
    "    s_, t_ = \"\", \"\"\n",
    "    i, j = 0, 0\n",
    "    i, j = len(s), len(t)\n",
    "    while (i>0 and j>0):\n",
    "        left = dp[i][j-1]\n",
    "        top = dp[i-1][j]\n",
    "        left_top = dp[i-1][j-1]\n",
    "        min_ = min(left, top, left_top)\n",
    "        if dp[i][j]==min_:\n",
    "            s_ = s[i-1]+s_\n",
    "            t_ = t[j-1]+t_\n",
    "            i -= 1\n",
    "            j -= 1\n",
    "        else:\n",
    "            if (min_==left and min_==top) or (min_!=left and min_!=top):\n",
    "                s_ = s[i-1]+s_\n",
    "                t_ = t[j-1]+t_\n",
    "                i -= 1\n",
    "                j -= 1\n",
    "            elif min_!=left and min_==top:\n",
    "                s_ = s[i-1]+s_\n",
    "                t_ = \"-\"+t_\n",
    "                i -= 1\n",
    "            elif min_==left and min_!=top:\n",
    "                s_ = \"-\"+s_\n",
    "                t_ = t[j-1]+t_\n",
    "                j -= 1\n",
    "    print(s_)\n",
    "    print(t_)\n",
    "\n",
    "path = r\"C:/Users/Hi/Downloads/test.txt\"\n",
    "path = r\"D:/downloads/rosalind_edta.txt\"\n",
    "edit(path)"
   ]
  },
  {
   "cell_type": "code",
   "execution_count": 63,
   "metadata": {},
   "outputs": [
    {
     "name": "stdout",
     "output_type": "stream",
     "text": [
      "52\n",
      "CKLHIR-I---ISVEE-EAVGAFVFLCKQMQMGPGMSSLIEHWNWHISVYDEWTFQRNFAFPHLQ\n",
      "DDRMARSIFGCMQFEERQAHLSIASLSLVCQ--P-LCHVHEEIFQLLS--DEYKAAICIENDKCQ\n"
     ]
    }
   ],
   "source": [
    "def edit_alignment(v, w):\n",
    "    '''Returns the edit score and edit alignment of strings v and w.'''\n",
    "    from numpy import zeros\n",
    "\n",
    "    # Initialize the matrices.\n",
    "    S = zeros((len(v)+1, len(w)+1), dtype=int)\n",
    "    backtrack = zeros((len(v)+1, len(w)+1), dtype=int)\n",
    "\n",
    "    for i in range(1, len(v)+1):\n",
    "        S[i][0] = i\n",
    "    for j in range(1, len(w)+1):\n",
    "        S[0][j] = j\n",
    "\n",
    "    # Fill in the Score and Backtrack matrices.\n",
    "    for i in range(1, len(v)+1):\n",
    "        for j in range(1, len(w)+1):\n",
    "            scores = [S[i-1][j-1] + (v[i-1] != w[j-1]), S[i-1][j]+1, S[i][j-1]+1]\n",
    "            S[i][j] = min(scores)\n",
    "            backtrack[i][j] = scores.index(S[i][j])\n",
    "\n",
    "    # Quick lambda function to insert indels.\n",
    "    insert_indel = lambda word, i: word[:i] + '-' + word[i:]\n",
    "\n",
    "    # Initialize the aligned strings as the input strings.\n",
    "    v_aligned, w_aligned = v, w\n",
    "\n",
    "    # Initialize the values of i,j and get the minimum score.\n",
    "    i,j = len(v), len(w)\n",
    "    min_score = S[i][j]\n",
    "\n",
    "    # Backtrack to the edge of the matrix starting bottom right.\n",
    "    while i*j != 0:\n",
    "        if backtrack[i][j] == 1:\n",
    "            i -= 1\n",
    "            w_aligned = insert_indel(w_aligned, j)\n",
    "        elif backtrack[i][j] == 2:\n",
    "            j -= 1\n",
    "            v_aligned = insert_indel(v_aligned, i)\n",
    "        else:\n",
    "            i -= 1\n",
    "            j -= 1\n",
    "\n",
    "    # Prepend the necessary preceeding indels to get to (0,0).\n",
    "    for repeat in range(i):\n",
    "        w_aligned = insert_indel(w_aligned, 0)\n",
    "    for repeat in range(j):\n",
    "        v_aligned = insert_indel(v_aligned, 0)\n",
    "\n",
    "    return str(min_score), v_aligned, w_aligned\n",
    "\n",
    "if __name__ == '__main__':\n",
    "\n",
    "    # Get the edit alignment.\n",
    "    edited = edit_alignment(s, t)\n",
    "\n",
    "    # Print and save the answer.\n",
    "    print ('\\n'.join(edited))\n"
   ]
  }
 ],
 "metadata": {
  "kernelspec": {
   "display_name": "Python 3",
   "language": "python",
   "name": "python3"
  },
  "language_info": {
   "codemirror_mode": {
    "name": "ipython",
    "version": 3
   },
   "file_extension": ".py",
   "mimetype": "text/x-python",
   "name": "python",
   "nbconvert_exporter": "python",
   "pygments_lexer": "ipython3",
   "version": "3.12.5"
  }
 },
 "nbformat": 4,
 "nbformat_minor": 2
}
