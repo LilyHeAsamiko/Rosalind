{
 "cells": [
  {
   "cell_type": "code",
   "execution_count": 3,
   "metadata": {},
   "outputs": [],
   "source": [
    "A = '186.07931 287.12699 548.20532 580.18077 681.22845 706.27446 782.27613 968.35544 968.35544'\n",
    "B = '101.04768 158.06914 202.09536 318.09979 419.14747 463.17369'"
   ]
  },
  {
   "cell_type": "code",
   "execution_count": null,
   "metadata": {},
   "outputs": [],
   "source": [
    "path = r\"D:\\downloads\\Rosalind_test.txt\""
   ]
  },
  {
   "cell_type": "code",
   "execution_count": null,
   "metadata": {},
   "outputs": [],
   "source": [
    "with open(path) as f:\n",
    "    fr = f.readlines()\n",
    "print(fr)"
   ]
  },
  {
   "cell_type": "code",
   "execution_count": 7,
   "metadata": {},
   "outputs": [
    {
     "name": "stdout",
     "output_type": "stream",
     "text": [
      "['186.07931', '287.12699', '548.20532', '580.18077', '681.22845', '706.27446', '782.27613', '968.35544', '968.35544'] ['101.04768', '158.06914', '202.09536', '318.09979', '419.14747', '463.17369']\n"
     ]
    }
   ],
   "source": [
    "a = A.split(' ')\n",
    "b = B.split(' ')\n",
    "print(a,b)"
   ]
  },
  {
   "cell_type": "code",
   "execution_count": 11,
   "metadata": {},
   "outputs": [
    {
     "name": "stdout",
     "output_type": "stream",
     "text": [
      "[85.03162999999999, 28.010169999999988, 16.016050000000007, 132.02048, 233.06816, 277.09438, 186.07930999999996, 129.05784999999997, 85.03162999999998, 30.972800000000007, 132.02048000000002, 176.04670000000004, 447.15764, 390.13618, 346.10996, 230.10553000000004, 129.05785000000003, 85.03163, 479.13309000000004, 422.11163000000005, 378.08541, 262.08098000000007, 161.03330000000005, 117.00708000000003, 580.1807699999999, 523.15931, 479.1330899999999, 363.12865999999997, 262.08097999999995, 218.05475999999993, 605.22678, 548.20532, 504.17909999999995, 388.17467, 287.12699, 243.10076999999995, 681.22845, 624.2069899999999, 580.1807699999999, 464.17634, 363.12865999999997, 319.10243999999994, 867.30776, 810.2863, 766.26008, 650.2556500000001, 549.20797, 505.18175, 867.30776, 810.2863, 766.26008, 650.2556500000001, 549.20797, 505.18175]\n"
     ]
    }
   ],
   "source": [
    "dif = [abs(float(aa)-float(bb)) for aa in a for bb in b]\n",
    "print(dif)"
   ]
  },
  {
   "cell_type": "code",
   "execution_count": 21,
   "metadata": {},
   "outputs": [
    {
     "name": "stdout",
     "output_type": "stream",
     "text": [
      "[0 0 0 0 0 0 0 0 0 0 0 0 0 0 0 0 0 0 0 0 0 0 0 0 0 0 0 0 0 0 0 0 0 0 0 0 0\n",
      " 0 0 0 0 0 0 0 0 0 0 0 0 0 0 0 0 0]\n"
     ]
    },
    {
     "ename": "AttributeError",
     "evalue": "'list' object has no attribute 'find'",
     "output_type": "error",
     "traceback": [
      "\u001b[1;31m---------------------------------------------------------------------------\u001b[0m",
      "\u001b[1;31mAttributeError\u001b[0m                            Traceback (most recent call last)",
      "Cell \u001b[1;32mIn[21], line 10\u001b[0m\n\u001b[0;32m      8\u001b[0m         n[i] \u001b[38;5;241m+\u001b[39m\u001b[38;5;241m=\u001b[39m \u001b[38;5;241m1\u001b[39m\n\u001b[0;32m      9\u001b[0m     \u001b[38;5;28;01melse\u001b[39;00m:\n\u001b[1;32m---> 10\u001b[0m         n[\u001b[43mres\u001b[49m\u001b[38;5;241;43m.\u001b[39;49m\u001b[43mfind\u001b[49m(dif[i])] \u001b[38;5;241m+\u001b[39m\u001b[38;5;241m=\u001b[39m  \u001b[38;5;241m1\u001b[39m\n\u001b[0;32m     11\u001b[0m \u001b[38;5;28mprint\u001b[39m(res)\n\u001b[0;32m     12\u001b[0m \u001b[38;5;28mprint\u001b[39m(n)\n",
      "\u001b[1;31mAttributeError\u001b[0m: 'list' object has no attribute 'find'"
     ]
    }
   ],
   "source": [
    "import numpy as np\n",
    "res = []\n",
    "n  = np.array(','.join('0'*len(dif)).split(','),dtype=int)\n",
    "print(n)\n",
    "for i in range(len(dif)):\n",
    "    if dif[i] not in res:\n",
    "        res.append(dif[i])\n",
    "        n[i] += 1\n",
    "    else:\n",
    "        n[res.find(dif[i])] +=  1\n",
    "print(res)\n",
    "print(n)"
   ]
  },
  {
   "cell_type": "code",
   "execution_count": null,
   "metadata": {},
   "outputs": [],
   "source": []
  }
 ],
 "metadata": {
  "kernelspec": {
   "display_name": "Python 3",
   "language": "python",
   "name": "python3"
  },
  "language_info": {
   "codemirror_mode": {
    "name": "ipython",
    "version": 3
   },
   "file_extension": ".py",
   "mimetype": "text/x-python",
   "name": "python",
   "nbconvert_exporter": "python",
   "pygments_lexer": "ipython3",
   "version": "3.12.5"
  }
 },
 "nbformat": 4,
 "nbformat_minor": 2
}
