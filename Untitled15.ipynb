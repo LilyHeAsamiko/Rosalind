{
 "cells": [
  {
   "cell_type": "code",
   "execution_count": null,
   "metadata": {
    "colab": {
     "base_uri": "https://localhost:8080/"
    },
    "id": "cRmbL57ZDB__",
    "outputId": "fee2fa66-83b0-4689-d4d3-87528fba2a06"
   },
   "outputs": [
    {
     "name": "stdout",
     "output_type": "stream",
     "text": [
      "{'A': [0, 5, 6], 'U': [2, 10], 'C': [1, 4, 7, 8], 'G': [3, 9, 11]}\n"
     ]
    },
    {
     "data": {
      "text/plain": [
       "6"
      ]
     },
     "execution_count": 5,
     "metadata": {},
     "output_type": "execute_result"
    }
   ],
   "source": [
    "\n",
    "import numpy as np\n",
    "\n",
    "\n",
    "s=\"ACUGCAACCGUG\"\n",
    "'''\n",
    "A:0,5,6\n",
    "U:2,10\n",
    "C:1,4,7,8\n",
    "G:3,9,11\n",
    "'''\n",
    "n =len(s)\n",
    "maxP = int(np.floor(n/2))\n",
    "A = ''\n",
    "U = ''\n",
    "C = ''\n",
    "G = ''\n",
    "AUCG = {\"A\":[],\"U\":[],\"C\":[],\"G\":[]}\n",
    "for i in range(n):\n",
    "    AUCG[s[i]].append(i)\n",
    "print(AUCG)\n",
    "o = len(AUCG)\n",
    "RNA ={\"A\":\"U\",\"U\":\"A\",\"C\":\"G\",\"G\":\"C\"}\n",
    "maxP\n"
   ]
  },
  {
   "cell_type": "markdown",
   "metadata": {
    "id": "cS-vdXsxrgzC"
   },
   "source": [
    "##node is one list like [a,b] of length 2\n",
    "\n",
    "##nodes is the list of all nodes of length maxN\n",
    "\n",
    "##lastNodes is the list of all nodes that do not have child\n",
    "\n",
    "##IG is the dictionary with keys of node in tuple format tuple(node), and values of a list of nodes that the key can contain(next level only).\n",
    "  \n",
    "##ITG is the dictionary with keys of node in tuple format tuple(node), and values of a list of nodes that the key next to(non-cross)."
   ]
  },
  {
   "cell_type": "code",
   "execution_count": 3,
   "metadata": {
    "colab": {
     "base_uri": "https://localhost:8080/"
    },
    "id": "ay-wKCGxZHlt",
    "outputId": "7c43d7cb-2f01-4cf3-ee0c-3518d7da9798"
   },
   "outputs": [
    {
     "name": "stdout",
     "output_type": "stream",
     "text": [
      "[[0. 0. 1. 0. 0. 0. 0. 0. 0. 0. 1. 0.]\n",
      " [0. 0. 0. 1. 0. 0. 0. 0. 0. 1. 0. 1.]\n",
      " [0. 0. 0. 0. 0. 1. 1. 0. 0. 0. 0. 0.]\n",
      " [0. 0. 0. 0. 1. 0. 0. 1. 1. 0. 0. 0.]\n",
      " [0. 0. 0. 0. 0. 0. 0. 0. 0. 1. 0. 1.]\n",
      " [0. 0. 0. 0. 0. 0. 0. 0. 0. 0. 1. 0.]\n",
      " [0. 0. 0. 0. 0. 0. 0. 0. 0. 0. 1. 0.]\n",
      " [0. 0. 0. 0. 0. 0. 0. 0. 0. 1. 0. 1.]\n",
      " [0. 0. 0. 0. 0. 0. 0. 0. 0. 1. 0. 1.]\n",
      " [0. 0. 0. 0. 0. 0. 0. 0. 0. 0. 0. 0.]\n",
      " [0. 0. 0. 0. 0. 0. 0. 0. 0. 0. 0. 0.]\n",
      " [0. 0. 0. 0. 0. 0. 0. 0. 0. 0. 0. 0.]]\n",
      "18.0\n",
      "[[0, 2], [0, 10], [1, 3], [1, 9], [1, 11], [2, 5], [2, 6], [3, 4], [3, 7], [3, 8], [4, 9], [4, 11], [5, 10], [6, 10], [7, 9], [7, 11], [8, 9], [8, 11]]\n"
     ]
    }
   ],
   "source": [
    "M = np.zeros((n,n))\n",
    "nodes = []\n",
    "for r in range(n):\n",
    "  for c in range(r,n):\n",
    "    if RNA[s[r]] == s[c]:\n",
    "      M[r][c] = 1\n",
    "      nodes.append([r,c])\n",
    "\n",
    "print(M)\n",
    "print(sum(sum(M)))\n",
    "#print(M>0)\n",
    "#all nodes\n",
    "print(nodes)"
   ]
  },
  {
   "cell_type": "code",
   "execution_count": 4,
   "metadata": {
    "colab": {
     "base_uri": "https://localhost:8080/"
    },
    "id": "Lgea-0AnY0BX",
    "outputId": "e30ffe98-2ac8-4e6d-ed58-d986de17ca0b"
   },
   "outputs": [
    {
     "name": "stdout",
     "output_type": "stream",
     "text": [
      "[[0. 0. 1.]\n",
      " [0. 0. 0.]\n",
      " [0. 0. 0.]] 1.0\n",
      "0.0\n",
      "11.0\n"
     ]
    }
   ],
   "source": [
    "print(M[1:4,1:4],sum(sum(M[1:4,1:4])))\n",
    "\n",
    "def PairOnes(matrix, row, column):\n",
    "  '''\n",
    "  sum alone rows and columns (both excluded)\n",
    "  '''\n",
    "  if column <= row+1:\n",
    "    return 0\n",
    "  return sum(sum(matrix[row+1:column,row+1:column]))\n",
    "\n",
    "print(PairOnes(M, 0, 2))\n",
    "print(PairOnes(M, 2, 12))"
   ]
  },
  {
   "cell_type": "code",
   "execution_count": 5,
   "metadata": {
    "colab": {
     "base_uri": "https://localhost:8080/"
    },
    "id": "a7XJ-d0PD8WS",
    "outputId": "5b3d93ac-dd83-48a5-fb64-1a3160da3268"
   },
   "outputs": [
    {
     "data": {
      "text/plain": [
       "[[2, 5], [2, 6], [3, 4], [3, 7], [3, 8]]"
      ]
     },
     "execution_count": 5,
     "metadata": {},
     "output_type": "execute_result"
    }
   ],
   "source": [
    "#inside [1,9]?\n",
    "[[ir,ic] for ir in range(2,9) for ic in range(2,9) if [ir,ic] in nodes]"
   ]
  },
  {
   "cell_type": "code",
   "execution_count": 6,
   "metadata": {
    "colab": {
     "base_uri": "https://localhost:8080/"
    },
    "id": "C4qXlOmo_EIm",
    "outputId": "db3dfb83-eecb-4b22-eb3e-234dfa1946aa"
   },
   "outputs": [
    {
     "name": "stdout",
     "output_type": "stream",
     "text": [
      "0 2 0.0\n",
      "0 10 10.0\n",
      "[[1, 3], [1, 9], [2, 5], [2, 6], [3, 4], [3, 7], [3, 8], [4, 9], [7, 9], [8, 9]]\n",
      "1 3 0.0\n",
      "1 9 5.0\n",
      "[[2, 5], [2, 6], [3, 4], [3, 7], [3, 8]]\n",
      "1 11 10.0\n",
      "[[2, 5], [2, 6], [3, 4], [3, 7], [3, 8], [4, 9], [5, 10], [6, 10], [7, 9], [8, 9]]\n",
      "2 5 1.0\n",
      "[[3, 4]]\n",
      "2 6 1.0\n",
      "[[3, 4]]\n",
      "3 4 0\n",
      "3 7 0.0\n",
      "3 8 0.0\n",
      "4 9 0.0\n",
      "4 11 4.0\n",
      "[[5, 10], [6, 10], [7, 9], [8, 9]]\n",
      "5 10 2.0\n",
      "[[7, 9], [8, 9]]\n",
      "6 10 2.0\n",
      "[[7, 9], [8, 9]]\n",
      "7 9 0.0\n",
      "7 11 1.0\n",
      "[[8, 9]]\n",
      "8 9 0\n",
      "8 11 0.0\n",
      "{(0, 10): [[1, 3], [1, 9], [2, 5], [2, 6], [3, 4], [3, 7], [3, 8], [4, 9], [7, 9], [8, 9]], (1, 9): [[2, 5], [2, 6], [3, 4], [3, 7], [3, 8]], (1, 11): [[2, 5], [2, 6], [3, 4], [3, 7], [3, 8], [4, 9], [5, 10], [6, 10], [7, 9], [8, 9]], (2, 5): [[3, 4]], (2, 6): [[3, 4]], (4, 11): [[5, 10], [6, 10], [7, 9], [8, 9]], (5, 10): [[7, 9], [8, 9]], (6, 10): [[7, 9], [8, 9]], (7, 11): [[8, 9]]}\n",
      "[[0, 2], [1, 3], [3, 4], [3, 7], [3, 8], [4, 9], [7, 9], [8, 9], [8, 11]]\n",
      "True\n"
     ]
    }
   ],
   "source": [
    "#intra-grow\n",
    "IG = {}\n",
    "Leaves = []\n",
    "maxN = len(nodes)\n",
    "for ni in range(maxN):\n",
    "  lr = nodes[ni][0]\n",
    "  lc = nodes[ni][1]\n",
    "  print(lr,lc,PairOnes(M, lr, lc))\n",
    "  if PairOnes(M, lr, lc) >0:\n",
    "    print([[ir,ic] for ir in range(lr+1,lc) for ic in range(lr+1,lc) if [ir,ic] in nodes])\n",
    "    IG[(lr,lc)]=[[ir,ic] for ir in range(lr+1,lc) for ic in range(lr+1,lc) if [ir,ic] in nodes]\n",
    "  else:\n",
    "    Leaves.append([lr,lc])\n",
    "print(IG)\n",
    "print(Leaves)\n",
    "print(nodes[0] in Leaves)"
   ]
  },
  {
   "cell_type": "code",
   "execution_count": 7,
   "metadata": {
    "colab": {
     "base_uri": "https://localhost:8080/"
    },
    "id": "QV6jjee946dG",
    "outputId": "92bd9d38-a398-4cc2-b095-61ee512f02b7"
   },
   "outputs": [
    {
     "name": "stdout",
     "output_type": "stream",
     "text": [
      "2 12 11.0\n",
      "[[3, 4], [3, 7], [3, 8], [4, 9], [4, 11], [5, 10], [6, 10], [7, 9], [7, 11], [8, 9], [8, 11]]\n",
      "10 12 0.0\n",
      "3 12 8.0\n",
      "[[4, 9], [4, 11], [5, 10], [6, 10], [7, 9], [7, 11], [8, 9], [8, 11]]\n",
      "9 12 0.0\n",
      "11 12 0\n",
      "5 12 5.0\n",
      "[[6, 10], [7, 9], [7, 11], [8, 9], [8, 11]]\n",
      "6 12 4.0\n",
      "[[7, 9], [7, 11], [8, 9], [8, 11]]\n",
      "4 12 6.0\n",
      "[[5, 10], [6, 10], [7, 9], [7, 11], [8, 9], [8, 11]]\n",
      "7 12 2.0\n",
      "[[8, 9], [8, 11]]\n",
      "8 12 0.0\n",
      "9 12 0.0\n",
      "11 12 0\n",
      "10 12 0.0\n",
      "10 12 0.0\n",
      "9 12 0.0\n",
      "11 12 0\n",
      "9 12 0.0\n",
      "11 12 0\n",
      "{(0, 2): [[3, 4], [3, 7], [3, 8], [4, 9], [4, 11], [5, 10], [6, 10], [7, 9], [7, 11], [8, 9], [8, 11]], (1, 3): [[4, 9], [4, 11], [5, 10], [6, 10], [7, 9], [7, 11], [8, 9], [8, 11]], (2, 5): [[6, 10], [7, 9], [7, 11], [8, 9], [8, 11]], (2, 6): [[7, 9], [7, 11], [8, 9], [8, 11]], (3, 4): [[5, 10], [6, 10], [7, 9], [7, 11], [8, 9], [8, 11]], (3, 7): [[8, 9], [8, 11]]}\n",
      "[[0, 10], [1, 9], [1, 11], [3, 8], [4, 9], [4, 11], [5, 10], [6, 10], [7, 9], [7, 11], [8, 9], [8, 11]]\n"
     ]
    }
   ],
   "source": [
    "#inter-grow\n",
    "ITG = {}\n",
    "lastNodes = []\n",
    "maxN = len(nodes)\n",
    "for ni in range(maxN):\n",
    "  lr = nodes[ni][0]\n",
    "  lc = nodes[ni][1]\n",
    "  print(lc,n,PairOnes(M, lc, n))\n",
    "  if PairOnes(M, lc, n) >0:\n",
    "    print([[ir,ic] for ir in range(lc+1, n-1) for ic in range(lc+1,n) if [ir,ic] in nodes])\n",
    "    ITG[(lr,lc)]=[[ir,ic] for ir in range(lc+1, n-1) for ic in range(lc+1,n) if [ir,ic] in nodes]\n",
    "  else:\n",
    "    lastNodes.append([lr,lc])\n",
    "print(ITG)\n",
    "print(lastNodes)"
   ]
  },
  {
   "cell_type": "code",
   "execution_count": 8,
   "metadata": {
    "colab": {
     "base_uri": "https://localhost:8080/"
    },
    "id": "bWr_twO-wVy7",
    "outputId": "d71d2017-b025-41ea-85d9-448e49474c22"
   },
   "outputs": [
    {
     "name": "stdout",
     "output_type": "stream",
     "text": [
      "[[0, 2], [0, 10], [1, 3], [1, 9], [1, 11], [2, 5], [2, 6], [3, 4], [3, 7], [3, 8], [4, 9], [4, 11], [5, 10], [6, 10], [7, 9], [7, 11], [8, 9], [8, 11]]\n",
      "True\n",
      "[[1, 3], [1, 9], [2, 5], [2, 6], [3, 4], [3, 7], [3, 8], [4, 9], [7, 9], [8, 9]]\n",
      "True\n",
      "[[2, 5], [2, 6], [3, 4], [3, 7], [3, 8]]\n"
     ]
    }
   ],
   "source": [
    "print(nodes)\n",
    "print(tuple(nodes[1]) in IG)\n",
    "print(IG[tuple(nodes[1])])\n",
    "#[[1, 3], [1, 9], [2, 5], [2, 6], [3, 4], [3, 7], [3, 8], [4, 9], [7, 9], [8, 9]]\n",
    "#level = [1,1,2,2,3,2,2,1,1,1]\n",
    "#depth = [1,3,2,2,1,2,1,1,1,1]\n",
    "#branch = [1.1,1.2,1.2(1),1.2(2)，1.2(1)(1)/1.2(2)(1),1.2(3),1.2(4),1.2(5),1.1+1,1.1+2,1.1+3]\n",
    "#childs = [[],[[2, 5], [2, 6], [3, 7], [3, 8]],[3, 4],[3, 4],[],[],[],[],[],[]]\n",
    "#tree = [[[1, 3],[7, 9]],[[1, 3],[8, 9]],[[2, 5],[7, 9]],[[2, 5],[8, 9]],[[2, 6],[7, 9]],[[2, 6],[8, 9]],[[1, 3],[4, 9]],[[3, 7],[8, 9]],[[3, 4],[8, 9]],[1,9]]\n",
    "#1+sum(sum(M))+(3+5+2)\n",
    "print(tuple(nodes[3]) in IG)\n",
    "print(IG[tuple(nodes[3])])\n"
   ]
  },
  {
   "cell_type": "code",
   "execution_count": 9,
   "metadata": {
    "colab": {
     "base_uri": "https://localhost:8080/"
    },
    "id": "6qlZefVuiw8B",
    "outputId": "f0836cf1-4927-4335-e737-0d0a72caf1de"
   },
   "outputs": [
    {
     "name": "stdout",
     "output_type": "stream",
     "text": [
      "True\n",
      "[[3, 4], [3, 7], [3, 8], [4, 9], [4, 11], [5, 10], [6, 10], [7, 9], [7, 11], [8, 9], [8, 11]]\n"
     ]
    }
   ],
   "source": [
    "print(tuple(nodes[0]) in ITG)\n",
    "print(ITG[tuple(nodes[0])])\n"
   ]
  },
  {
   "cell_type": "markdown",
   "metadata": {
    "id": "WlK1YLyaAbWH"
   },
   "source": [
    "#[[1, 3], [1, 9], [2, 5], [2, 6], [3, 4], [3, 7], [3, 8], [4, 9], [7, 9], [8, 9]]\n",
    "#level = [1,1,2,2,3,2,2,1,1,1]\n",
    "#depth = [1,3,2,2,1,2,1,1,1,1]\n",
    "#branch = [1.1,1.2,1.2(1),1.2(2)，1.2(1)(1)/1.2(2)(1),1.2(3),1.2(4),1.2(5),1.1+1,1.1+2,1.1+3]\n",
    "#childs = [[],[[2, 5], [2, 6], [3, 7], [3, 8]],[3, 4],[3, 4],[],[],[],[],[],[]]\n",
    "#tree = [[[1, 3],[7, 9]],[[1, 3],[8, 9]],[[2, 5],[7, 9]],[[2, 5],[8, 9]],[[2, 6],[7, 9]],[[2, 6],[8, 9]],[[1, 3],[4, 9]],[[3, 7],[8, 9]],[[3, 4],[8, 9]],[1,9]]\n",
    "#1+sum(sum(M))+(3+5+2)    "
   ]
  },
  {
   "cell_type": "code",
   "execution_count": 7,
   "metadata": {
    "colab": {
     "base_uri": "https://localhost:8080/"
    },
    "id": "IiML5H-rpMDz",
    "outputId": "3154ed39-30bb-40a8-f320-ce541952487c"
   },
   "outputs": [
    {
     "data": {
      "text/plain": [
       "7"
      ]
     },
     "execution_count": 7,
     "metadata": {},
     "output_type": "execute_result"
    }
   ],
   "source": [
    "table = {'AU':2,'UA':2,'GC':2,'CG':2,'A':1,'U':1,'G':1,'C':1,'':1}\n",
    "def motzkin(sts):\n",
    "  if sts not in table:\n",
    "    c = motzkin(sts[1:])\n",
    "    for i in range(1,len(sts)):\n",
    "      if(RNA[sts[0]]==sts[i]):\n",
    "        c += motzkin(sts[1:i])*motzkin(sts[i+1:])\n",
    "    table[sts] = np.mod(c,10000000)\n",
    "  return table[sts]\n",
    "s = 'AUAU'\n",
    "motzkin(s)"
   ]
  }
 ],
 "metadata": {
  "colab": {
   "provenance": [],
   "toc_visible": true
  },
  "kernelspec": {
   "display_name": "Python 3",
   "name": "python3"
  },
  "language_info": {
   "name": "python"
  }
 },
 "nbformat": 4,
 "nbformat_minor": 0
}
