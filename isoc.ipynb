{
 "cells": [
  {
   "cell_type": "code",
   "execution_count": 57,
   "metadata": {},
   "outputs": [],
   "source": [
    "import numpy as np\n",
    "import math\n",
    "\n",
    "def independent_segregation(n):\n",
    "    '''\n",
    "    Returns an array A where A[k] represents the common logarithm of the probability\n",
    "    that two diploid siblings share at least k of their 2n chromosomes.\n",
    "    '''\n",
    "\n",
    "    pro = 0.5 ** (2*n) \n",
    "    dis = []\n",
    "    for i in range(2*n):\n",
    "        tep = math.factorial(2 * n) / (math.factorial(i) * math.factorial(2 * n - i)) \n",
    "        dis.append(tep*pro)\n",
    "    print(dis)\n",
    "\n",
    "    res = []\n",
    "    for i in range(len(dis)):\n",
    "        prosum = 0\n",
    "        for j in range(i+1):\n",
    "            prosum = prosum + dis[j] \n",
    "        res.append(str(round(np.log10(prosum), 4)))\n",
    "    res = res[::-1] \n",
    "\n",
    "    return res\n",
    "\n"
   ]
  },
  {
   "cell_type": "code",
   "execution_count": 58,
   "metadata": {},
   "outputs": [],
   "source": [
    "def independent_segregation1(n):\n",
    "    '''\n",
    "    Returns an array A where A[k] represents the common logarithm of the probability\n",
    "    that two diploid siblings share at least k of their 2n chromosomes.\n",
    "    '''\n",
    "\n",
    "    # Pull out a factor of 2**(-2*n) to avoid precision problems with large n.\n",
    "    prob = 2**(2*n)\n",
    "\n",
    "    # Initialize as the log of the factor of the probability that needs to be recombined.\n",
    "    A = [-2*n*np.log10(2)]*2*n\n",
    "\n",
    "    for i in range(2*n):\n",
    "        # Recall that we pulled out a factor of 2**(-2*n).\n",
    "        prob -= math.comb(2*n, i)\n",
    "        # Covert to log and add in factor 2**(-2*n) using log rules.\n",
    "        A[i] += np.log10(prob)\n",
    "        A[i] = round(A[i],4)\n",
    "    return A"
   ]
  },
  {
   "cell_type": "code",
   "execution_count": 59,
   "metadata": {},
   "outputs": [
    {
     "name": "stdout",
     "output_type": "stream",
     "text": [
      "-0.0004 -0.0047 -0.0244 -0.0819 -0.2055 -0.4237 -0.7648 -1.2621 -1.9689 -3.0103\n"
     ]
    }
   ],
   "source": [
    "if __name__ == '__main__':\n",
    "\n",
    "    n = 5\n",
    "\n",
    "    # Get the array.\n",
    "    A = independent_segregation1(n)\n",
    "\n",
    "    # Print and save the answer.\n",
    "    print(' '.join(map(str, A)))"
   ]
  }
 ],
 "metadata": {
  "kernelspec": {
   "display_name": "Python 3",
   "language": "python",
   "name": "python3"
  },
  "language_info": {
   "codemirror_mode": {
    "name": "ipython",
    "version": 3
   },
   "file_extension": ".py",
   "mimetype": "text/x-python",
   "name": "python",
   "nbconvert_exporter": "python",
   "pygments_lexer": "ipython3",
   "version": "3.12.5"
  }
 },
 "nbformat": 4,
 "nbformat_minor": 2
}
